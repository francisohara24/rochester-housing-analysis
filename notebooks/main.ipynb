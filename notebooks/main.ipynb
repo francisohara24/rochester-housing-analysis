{
 "cells": [
  {
   "cell_type": "markdown",
   "source": [
    "## TASK\n",
    "1. Produce a spreadsheet of all students with 2 columns:\n",
    "    a. RA for each student.\n",
    "    b. Whether the student has done an intentional interaction.\n",
    "\n",
    "2. Produce 2nd spreadsheet comprising the ff:\n",
    "    a. RA name\n",
    "    b. Total no. of intentional interactions had.\n",
    "\n",
    "## POSSIBLE SOLUTION:\n",
    "1. Develop general algorithm to be used to identify RAs and intentional interaction status for all students.\n",
    "    a. Iterate through list of all students\n",
    "    b. For each student, determine if variations of first and lastname are present in Roster with high confidence.\n",
    "    c. If name is present,\n",
    "        - update intentional interaction status to YES\n",
    "        - update RA column with name of RA from Roster.\n",
    "    d. Make use of **Room Number** criteria to simplify entire process.\n",
    "2.  a. For remaining students not captured by step 1, develop less precise algorithm that checks for presence of at least last name in Roster.\n",
    "    b. Isolate all such students and filter manually."
   ],
   "metadata": {
    "collapsed": false
   }
  },
  {
   "cell_type": "code",
   "execution_count": null,
   "outputs": [],
   "source": [
    "# Each RA in Gilbert Hall will likely follow the same format for all their students. So algorithm could be fine-tuned for each RA and they format they use to list student names.\n",
    "# Limited no. of RAs makes work easier.\n",
    "\n",
    "# Room number will always be present. (PS. Actually False)\n",
    "# Check if either last name and room number are present, or first name and room number are present."
   ],
   "metadata": {
    "collapsed": false
   }
  },
  {
   "cell_type": "code",
   "execution_count": 41,
   "outputs": [
    {
     "name": "stdout",
     "output_type": "stream",
     "text": [
      "All Responses:  906\n",
      "Gilbert Hall Responses 386\n",
      "All Students:  636\n",
      "Gilbert Hall Students:  310\n",
      "[11, 13, 32, 73, 74, 75, 98, 101, 121, 124, 141, 145, 149, 164, 165, 166, 173, 188, 201, 207, 208, 211, 241, 242, 247, 248, 249, 250, 262, 278, 281, 282, 284, 285, 286, 288, 289, 293, 299, 307, 309]\n"
     ]
    }
   ],
   "source": [
    "import pandas as pd\n",
    "\n",
    "# importing spreadsheets\n",
    "roster = pd.read_excel(\"../data/FYQ Roster- Spring.xlsx\")\n",
    "interactions = pd.read_excel(\"../data/Intentional Interactions  (Responses).xlsx\")\n",
    "\n",
    "## check successful import\n",
    "print(roster.head())\n",
    "print(\"\\n\", interactions.head())\n",
    "\n",
    "# Extract only Gilbert Hall data\n",
    "interactions_gil = interactions[interactions[\"Building \"] == \"Gilbert\"]\n",
    "roster_gil = roster[roster[\"BUILDING\"] == \"GILBE\"]\n",
    "\n",
    "# Compare total vs gilbert-only\n",
    "print(\"All Responses: \", interactions.shape[0])\n",
    "print(\"Gilbert Hall Responses\", interactions_gil.shape[0])\n",
    "\n",
    "print(\"All Students: \", roster.shape[0])\n",
    "print(\"Gilbert Hall Students: \", roster_gil.shape[0])\n",
    "\n",
    "# drop unnecessary columns from interactions data\n",
    "interactions_gil = interactions_gil[[\"Your Name \", \"Resident Names and Room Numbers\"]]\n",
    "\n",
    "\n",
    "# FIRST ROUND OF CHECKS (Firstname, Lastname, Room Number)\n",
    "for student in roster_gil.index:\n",
    "    for RA in interactions_gil.index:\n",
    "        if roster_gil.at[student, \"LAST\"].lower() in interactions_gil.at[RA, \"Resident Names and Room Numbers\"].lower():\n",
    "            if roster_gil.at[student, \"FIRST\"].lower() in interactions_gil.at[RA, \"Resident Names and Room Numbers\"].lower():\n",
    "                if str(roster_gil.at[student, \"ROOM\"]).lower() in interactions_gil.at[RA, \"Resident Names and Room Numbers\"].lower():\n",
    "                    roster_gil.at[student, \"RA\"] = interactions_gil.loc[RA, \"Your Name \"]\n",
    "                    roster_gil.at[student, \"INTENTIONAL INTERACTION\"] = \"YES\"\n",
    "\n",
    "# counter = 0\n",
    "# for student in roster_gil.index:\n",
    "#     if roster_gil.loc[student, \"INTENTIONAL INTERACTION\"] == \"YES\":\n",
    "#         counter += 1\n",
    "# print(\"count before:\", counter)\n",
    "\n",
    "# SECOND ROUND OF CHECKS (Firstname, Lastname)\n",
    "# extract labels of rows where Intentional interaction is empty\n",
    "no_interaction = []\n",
    "for student in roster_gil.index:\n",
    "    if str(roster_gil.loc[student, \"INTENTIONAL INTERACTION\"]) == \"nan\":\n",
    "        no_interaction.append(student)\n",
    "print(no_interaction)\n",
    "\n",
    "# Use labels to iterate through the data frame and check only first name and last name; not room number.\n",
    "for student in no_interaction:\n",
    "    for RA in interactions_gil.index:\n",
    "        if roster_gil.loc[student, \"LAST\"].lower() in interactions_gil.loc[RA,\"Resident Names and Room Numbers\"].lower():\n",
    "            if roster_gil.loc[student, \"FIRST\"].lower() in interactions_gil.loc[RA, \"Resident Names and Room Numbers\"].lower():\n",
    "                roster_gil.at[student, \"INTENTIONAL INTERACTION\"] = \"YES\"\n",
    "                roster_gil.at[student, \"RA\"] = interactions_gil.loc[RA, \"Your Name \"]\n",
    "\n",
    "# counter = 0\n",
    "# for student in roster_gil.index:\n",
    "#     if roster_gil.loc[student, \"INTENTIONAL INTERACTION\"] == \"YES\":\n",
    "#         counter += 1\n",
    "# print(\"count after:\", counter)\n",
    "\n",
    "\n",
    "roster_gil.to_excel(\"../output.xlsx\")"
   ],
   "metadata": {
    "collapsed": false
   }
  },
  {
   "cell_type": "code",
   "execution_count": 59,
   "outputs": [
    {
     "data": {
      "text/plain": "                LAST     FIRST PREFERRED BUILDING  ROOM  \\\n0           LOVELACE     AIDEN     AIDEN    GILBE   145   \n1             PARKER    DARIAN    DARIAN    GILBE   145   \n2            MELTZER    JOSEPH      JOEY    GILBE   146   \n3                GAE      RYAN      RYAN    GILBE   146   \n4                DEB   ARINDAM   ARINDAM    GILBE   146   \n..               ...       ...       ...      ...   ...   \n305            ZAHID  SHARMEEN  SHARMEEN    GILBE   491   \n306           NGUYEN       ANH   BRIDGIT    GILBE   491   \n307               LI     YINUO     YINUO    GILBE   492   \n308       ROJAS BOWE  GABRIELA  GABRIELA    GILBE   493   \n309  MORALES MACEIRA   DESIREE   DESIREE    GILBE   493   \n\n    INTENTIONAL INTERACTION            RA Unnamed: 7 Legend  \\\n0                       YES  Natan Sahilu        NaN  Color   \n1                       YES  Natan Sahilu        NaN    NaN   \n2                       YES  Natan Sahilu        NaN    NaN   \n3                       YES  Natan Sahilu        NaN    NaN   \n4                       YES  Natan Sahilu        NaN    NaN   \n..                      ...           ...        ...    ...   \n305                     YES         Karla        NaN    NaN   \n306                     YES         Karla        NaN    NaN   \n307                     NaN           NaN        NaN    NaN   \n308                     YES         Karla        NaN    NaN   \n309                     YES         Karla        NaN    NaN   \n\n                                            Unnamed: 9  \n0                                              Meaning  \n1    Actual student whose name is not in the intent...  \n2    RA whose name is in the FYQ Roster list of stu...  \n3    Miscellaneous problems that require case by ca...  \n4                                                  NaN  \n..                                                 ...  \n305                                                NaN  \n306                                                NaN  \n307                                                NaN  \n308                                                NaN  \n309                                                NaN  \n\n[310 rows x 10 columns]",
      "text/html": "<div>\n<style scoped>\n    .dataframe tbody tr th:only-of-type {\n        vertical-align: middle;\n    }\n\n    .dataframe tbody tr th {\n        vertical-align: top;\n    }\n\n    .dataframe thead th {\n        text-align: right;\n    }\n</style>\n<table border=\"1\" class=\"dataframe\">\n  <thead>\n    <tr style=\"text-align: right;\">\n      <th></th>\n      <th>LAST</th>\n      <th>FIRST</th>\n      <th>PREFERRED</th>\n      <th>BUILDING</th>\n      <th>ROOM</th>\n      <th>INTENTIONAL INTERACTION</th>\n      <th>RA</th>\n      <th>Unnamed: 7</th>\n      <th>Legend</th>\n      <th>Unnamed: 9</th>\n    </tr>\n  </thead>\n  <tbody>\n    <tr>\n      <th>0</th>\n      <td>LOVELACE</td>\n      <td>AIDEN</td>\n      <td>AIDEN</td>\n      <td>GILBE</td>\n      <td>145</td>\n      <td>YES</td>\n      <td>Natan Sahilu</td>\n      <td>NaN</td>\n      <td>Color</td>\n      <td>Meaning</td>\n    </tr>\n    <tr>\n      <th>1</th>\n      <td>PARKER</td>\n      <td>DARIAN</td>\n      <td>DARIAN</td>\n      <td>GILBE</td>\n      <td>145</td>\n      <td>YES</td>\n      <td>Natan Sahilu</td>\n      <td>NaN</td>\n      <td>NaN</td>\n      <td>Actual student whose name is not in the intent...</td>\n    </tr>\n    <tr>\n      <th>2</th>\n      <td>MELTZER</td>\n      <td>JOSEPH</td>\n      <td>JOEY</td>\n      <td>GILBE</td>\n      <td>146</td>\n      <td>YES</td>\n      <td>Natan Sahilu</td>\n      <td>NaN</td>\n      <td>NaN</td>\n      <td>RA whose name is in the FYQ Roster list of stu...</td>\n    </tr>\n    <tr>\n      <th>3</th>\n      <td>GAE</td>\n      <td>RYAN</td>\n      <td>RYAN</td>\n      <td>GILBE</td>\n      <td>146</td>\n      <td>YES</td>\n      <td>Natan Sahilu</td>\n      <td>NaN</td>\n      <td>NaN</td>\n      <td>Miscellaneous problems that require case by ca...</td>\n    </tr>\n    <tr>\n      <th>4</th>\n      <td>DEB</td>\n      <td>ARINDAM</td>\n      <td>ARINDAM</td>\n      <td>GILBE</td>\n      <td>146</td>\n      <td>YES</td>\n      <td>Natan Sahilu</td>\n      <td>NaN</td>\n      <td>NaN</td>\n      <td>NaN</td>\n    </tr>\n    <tr>\n      <th>...</th>\n      <td>...</td>\n      <td>...</td>\n      <td>...</td>\n      <td>...</td>\n      <td>...</td>\n      <td>...</td>\n      <td>...</td>\n      <td>...</td>\n      <td>...</td>\n      <td>...</td>\n    </tr>\n    <tr>\n      <th>305</th>\n      <td>ZAHID</td>\n      <td>SHARMEEN</td>\n      <td>SHARMEEN</td>\n      <td>GILBE</td>\n      <td>491</td>\n      <td>YES</td>\n      <td>Karla</td>\n      <td>NaN</td>\n      <td>NaN</td>\n      <td>NaN</td>\n    </tr>\n    <tr>\n      <th>306</th>\n      <td>NGUYEN</td>\n      <td>ANH</td>\n      <td>BRIDGIT</td>\n      <td>GILBE</td>\n      <td>491</td>\n      <td>YES</td>\n      <td>Karla</td>\n      <td>NaN</td>\n      <td>NaN</td>\n      <td>NaN</td>\n    </tr>\n    <tr>\n      <th>307</th>\n      <td>LI</td>\n      <td>YINUO</td>\n      <td>YINUO</td>\n      <td>GILBE</td>\n      <td>492</td>\n      <td>NaN</td>\n      <td>NaN</td>\n      <td>NaN</td>\n      <td>NaN</td>\n      <td>NaN</td>\n    </tr>\n    <tr>\n      <th>308</th>\n      <td>ROJAS BOWE</td>\n      <td>GABRIELA</td>\n      <td>GABRIELA</td>\n      <td>GILBE</td>\n      <td>493</td>\n      <td>YES</td>\n      <td>Karla</td>\n      <td>NaN</td>\n      <td>NaN</td>\n      <td>NaN</td>\n    </tr>\n    <tr>\n      <th>309</th>\n      <td>MORALES MACEIRA</td>\n      <td>DESIREE</td>\n      <td>DESIREE</td>\n      <td>GILBE</td>\n      <td>493</td>\n      <td>YES</td>\n      <td>Karla</td>\n      <td>NaN</td>\n      <td>NaN</td>\n      <td>NaN</td>\n    </tr>\n  </tbody>\n</table>\n<p>310 rows × 10 columns</p>\n</div>"
     },
     "execution_count": 59,
     "metadata": {},
     "output_type": "execute_result"
    }
   ],
   "source": [
    "# Find number of Intentional interactions for each RA.\n",
    "\n",
    "# Reimport data\n",
    "roster_final = pd.read_excel(\"../data/COMPLETED FYQ Roster - Spring (March 23rd).xlsx\")\n",
    "interactions = roster_final[\"RA\"]\n",
    "histogram = {}\n",
    "for interaction in interactions:\n",
    "    histogram[interaction] = histogram.get(interaction, 0) + 1\n",
    "\n",
    "col1 = histogram.keys()\n",
    "col2 = histogram.values()\n",
    "histogram_df = pd.DataFrame({\"RA\": col1, \"No. of Intentional Interactions\":col2})\n",
    "\n",
    "histogram_df.to_excel(\"../output_2.xlsx\")\n",
    "roster_final"
   ],
   "metadata": {
    "collapsed": false
   }
  }
 ],
 "metadata": {
  "kernelspec": {
   "display_name": "Python 3",
   "language": "python",
   "name": "python3"
  },
  "language_info": {
   "codemirror_mode": {
    "name": "ipython",
    "version": 2
   },
   "file_extension": ".py",
   "mimetype": "text/x-python",
   "name": "python",
   "nbconvert_exporter": "python",
   "pygments_lexer": "ipython2",
   "version": "2.7.6"
  }
 },
 "nbformat": 4,
 "nbformat_minor": 0
}
