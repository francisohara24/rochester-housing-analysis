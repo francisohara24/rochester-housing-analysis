{
 "cells": [
  {
   "cell_type": "markdown",
   "source": [
    "Goals:\n",
    "1. Produce a spreadsheet of all students with 2 columns:\n",
    "    a. RA for each student.\n",
    "    b. Whether the student has done an intentional interaction.\n",
    "\n",
    "2. Produce 2nd spreadsheet comprising the ff:\n",
    "    a. RA name\n",
    "    b. Total no. of intentional interactions had.\n",
    "\n",
    "Solution:\n",
    "1. Develop general algorithm to be used to identify RAs and intentional interaction status for all students.\n",
    "    a. Iterate through list of all students\n",
    "    b. For each student, determine if variations of first and lastname are present in Roster with high confidence.\n",
    "    c. If name is present,\n",
    "        - update intentional interaction status to YES\n",
    "        - update RA column with name of RA from Roster.\n",
    "    d. Make use of **Room Number** criteria to simplify entire process.\n",
    "2.  a. For remaining students not captured by step 1, develop less precise algorithm that checks for presence of at least last name in Roster.\n",
    "    b. Isolate all such students and filter manually."
   ],
   "metadata": {
    "collapsed": false
   }
  },
  {
   "cell_type": "code",
   "execution_count": null,
   "outputs": [],
   "source": [
    "# Each RA in Gilbert Hall will likely follow the same format for all their students. So algorithm could be fine-tuned for each RA and they format they use to list student names.\n",
    "# Limited no. of RAs makes work easier.\n",
    "\n",
    "# Room number will always be present.\n",
    "# Check if either last name and room number are present, or first name and room number are present."
   ],
   "metadata": {
    "collapsed": false
   }
  }
 ],
 "metadata": {
  "kernelspec": {
   "display_name": "Python 3",
   "language": "python",
   "name": "python3"
  },
  "language_info": {
   "codemirror_mode": {
    "name": "ipython",
    "version": 2
   },
   "file_extension": ".py",
   "mimetype": "text/x-python",
   "name": "python",
   "nbconvert_exporter": "python",
   "pygments_lexer": "ipython2",
   "version": "2.7.6"
  }
 },
 "nbformat": 4,
 "nbformat_minor": 0
}
