{
 "cells": [
  {
   "cell_type": "markdown",
   "source": [
    "Goals:\n",
    "1. Produce a spreadsheet of all students with 2 columns:\n",
    "    a. RA for each student.\n",
    "    b. Whether the student has done an intentional interaction.\n",
    "\n",
    "2. Produce 2nd spreadsheet comprising the ff:\n",
    "    a. RA name\n",
    "    b. Total no. of intentional interactions had.\n",
    "\n",
    "Solution:\n",
    "1. Develop general algorithm to be used to identify RAs and intentional interaction status for all students.\n",
    "    a. Iterate through list of all students\n",
    "    b. For each student, determine if variations of first and lastname are present in Roster with high confidence.\n",
    "    c. If name is present,\n",
    "        - update intentional interaction status to YES\n",
    "        - update RA column with name of RA from Roster.\n",
    "    d. Make use of **Room Number** criteria to simplify entire process.\n",
    "2.  a. For remaining students not captured by step 1, develop less precise algorithm that checks for presence of at least last name in Roster.\n",
    "    b. Isolate all such students and filter manually."
   ],
   "metadata": {
    "collapsed": false
   }
  },
  {
   "cell_type": "code",
   "execution_count": null,
   "outputs": [],
   "source": [
    "# Each RA in Gilbert Hall will likely follow the same format for all their students. So algorithm could be fine-tuned for each RA and they format they use to list student names.\n",
    "# Limited no. of RAs makes work easier.\n",
    "\n",
    "# Room number will always be present.\n",
    "# Check if either last name and room number are present, or first name and room number are present."
   ],
   "metadata": {
    "collapsed": false
   }
  },
  {
   "cell_type": "code",
   "execution_count": 83,
   "outputs": [
    {
     "name": "stdout",
     "output_type": "stream",
     "text": [
      "   0       1       2\n",
      "0  1  Sukuna   60.90\n",
      "1  2  Satoru  100.23\n",
      "2  3    Yuta   99.50\n"
     ]
    },
    {
     "name": "stderr",
     "output_type": "stream",
     "text": [
      "C:\\Users\\Francis O'Hara Aidoo\\AppData\\Local\\Temp\\ipykernel_14844\\3525465426.py:28: SettingWithCopyWarning: \n",
      "A value is trying to be set on a copy of a slice from a DataFrame\n",
      "\n",
      "See the caveats in the documentation: https://pandas.pydata.org/pandas-docs/stable/user_guide/indexing.html#returning-a-view-versus-a-copy\n",
      "  df.loc[0][1] = \"Arata\"\n"
     ]
    }
   ],
   "source": [
    "import pandas as pd\n",
    "import re\n",
    "\n",
    "# importing spreadsheets\n",
    "roster = pd.read_excel(\"../data/FYQ Roster- Spring.xlsx\")\n",
    "interactions = pd.read_excel(\"../data/Intentional Interactions  (Responses).xlsx\")\n",
    "\n",
    "## check successful import\n",
    "# print(results.head())\n",
    "# print(\"\\n\", data.head())\n",
    "\n",
    "# Extract only Gilbert Hall data\n",
    "interactions_gil = interactions[interactions[\"Building \"] == \"Gilbert\"]\n",
    "roster_gil = roster[roster[\"BUILDING\"] == \"GILBE\"]\n",
    "\n",
    "# print(\"All Responses: \", interactions.shape[0])\n",
    "# print(\"Gilbert Hall Responses\", interactions_gil.shape[0])\n",
    "\n",
    "# print(\"All Students: \", roster.shape[0])\n",
    "# print(\"Gilbert Hall Students: \", roster_gil.shape[0])\n",
    "\n",
    "# drop unnecessary columns from interactions data\n",
    "interactions_gil = interactions_gil[[\"Your Name \", \"Resident Names and Room Numbers\"]]\n",
    "\n",
    "# for column in roster_gil.index:\n",
    "#     print(column)\n",
    "df = pd.DataFrame([[1, \"Sukuna\", 60.9], [2, \"Satoru\", 100.23], [3, \"Yuta\", 99.5]])\n",
    "df.loc[0][1] = \"Arata\"\n",
    "print(df)\n",
    "\n",
    "# HERE: Figure out how to alter original data frame"
   ],
   "metadata": {
    "collapsed": false
   }
  }
 ],
 "metadata": {
  "kernelspec": {
   "display_name": "Python 3",
   "language": "python",
   "name": "python3"
  },
  "language_info": {
   "codemirror_mode": {
    "name": "ipython",
    "version": 2
   },
   "file_extension": ".py",
   "mimetype": "text/x-python",
   "name": "python",
   "nbconvert_exporter": "python",
   "pygments_lexer": "ipython2",
   "version": "2.7.6"
  }
 },
 "nbformat": 4,
 "nbformat_minor": 0
}
