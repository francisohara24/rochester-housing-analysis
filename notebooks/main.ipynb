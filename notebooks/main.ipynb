{
 "cells": [
  {
   "cell_type": "markdown",
   "source": [
    "Goals:\n",
    "1. Produce a spreadsheet of all students with 2 columns:\n",
    "    a. RA for each student.\n",
    "    b. Whether the student has done an intentional interaction.\n",
    "\n",
    "2. Produce 2nd spreadsheet comprising the ff:\n",
    "    a. RA name\n",
    "    b. Total no. of intentional interactions had.\n",
    "\n",
    "Solution:\n",
    "1. Develop general algorithm to be used to identify RAs and intentional interaction status for all students.\n",
    "    a. Iterate through list of all students\n",
    "    b. For each student, determine if variations of first and lastname are present in Roster with high confidence.\n",
    "    c. If name is present,\n",
    "        - update intentional interaction status to YES\n",
    "        - update RA column with name of RA from Roster.\n",
    "    d. Make use of **Room Number** criteria to simplify entire process.\n",
    "2.  a. For remaining students not captured by step 1, develop less precise algorithm that checks for presence of at least last name in Roster.\n",
    "    b. Isolate all such students and filter manually."
   ],
   "metadata": {
    "collapsed": false
   }
  },
  {
   "cell_type": "code",
   "execution_count": null,
   "outputs": [],
   "source": [
    "# Each RA in Gilbert Hall will likely follow the same format for all their students. So algorithm could be fine-tuned for each RA and they format they use to list student names.\n",
    "# Limited no. of RAs makes work easier.\n",
    "\n",
    "# Room number will always be present.\n",
    "# Check if either last name and room number are present, or first name and room number are present."
   ],
   "metadata": {
    "collapsed": false
   }
  },
  {
   "cell_type": "code",
   "execution_count": 32,
   "outputs": [
    {
     "name": "stdout",
     "output_type": "stream",
     "text": [
      "[11, 13, 32, 73, 74, 75, 98, 101, 121, 124, 141, 145, 149, 164, 165, 166, 173, 188, 201, 207, 208, 211, 241, 242, 247, 248, 249, 250, 262, 278, 281, 282, 284, 285, 286, 288, 289, 293, 299, 307, 309]\n"
     ]
    }
   ],
   "source": [
    "import pandas as pd\n",
    "import re\n",
    "import math\n",
    "# importing spreadsheets\n",
    "roster = pd.read_excel(\"../data/FYQ Roster- Spring.xlsx\")\n",
    "interactions = pd.read_excel(\"../data/Intentional Interactions  (Responses).xlsx\")\n",
    "\n",
    "## check successful import\n",
    "# print(results.head())\n",
    "# print(\"\\n\", data.head())\n",
    "\n",
    "# Extract only Gilbert Hall data\n",
    "interactions_gil = interactions[interactions[\"Building \"] == \"Gilbert\"]\n",
    "roster_gil = roster[roster[\"BUILDING\"] == \"GILBE\"]\n",
    "\n",
    "# print(\"All Responses: \", interactions.shape[0])\n",
    "# print(\"Gilbert Hall Responses\", interactions_gil.shape[0])\n",
    "\n",
    "# print(\"All Students: \", roster.shape[0])\n",
    "# print(\"Gilbert Hall Students: \", roster_gil.shape[0])\n",
    "\n",
    "# drop unnecessary columns from interactions data\n",
    "interactions_gil = interactions_gil[[\"Your Name \", \"Resident Names and Room Numbers\"]]\n",
    "\n",
    "# for column in roster_gil.index:\n",
    "#     print(column)\n",
    "\n",
    "\n",
    "for student in roster_gil.index:\n",
    "    for RA in interactions_gil.index:\n",
    "        if roster_gil.at[student, \"LAST\"].lower() in interactions_gil.at[RA, \"Resident Names and Room Numbers\"].lower():\n",
    "            if roster_gil.at[student, \"FIRST\"].lower() in interactions_gil.at[RA, \"Resident Names and Room Numbers\"].lower():\n",
    "                if str(roster_gil.at[student, \"ROOM\"]).lower() in interactions_gil.at[RA, \"Resident Names and Room Numbers\"].lower():\n",
    "                    roster_gil.at[student, \"RA\"] = interactions_gil.loc[RA, \"Your Name \"]\n",
    "                    roster_gil.at[student, \"INTENTIONAL INTERACTION\"] = \"YES\"\n",
    "\n",
    "no_interaction = []\n",
    "for student in roster_gil.index:\n",
    "    if str(roster_gil.loc[student, \"INTENTIONAL INTERACTION\"]) == \"nan\":\n",
    "        no_interaction.append(student)\n",
    "\n",
    "for student in no_interaction:\n",
    "    for RA in interactions_gil.index:\n",
    "        if roster_gil.loc[student, \"LAST\"] in interactions_gil[RA,\"Resident Names and Room Numbers\"]\n",
    "# extract labels of rows where Intentional interaction is empty\n",
    "# Use labels to iterate through the data frame and check only first name and last name no room number. == identify the 17.\n",
    "roster_gil.to_excel(\"../output.xlsx\")\n",
    "\n"
   ],
   "metadata": {
    "collapsed": false
   }
  }
 ],
 "metadata": {
  "kernelspec": {
   "display_name": "Python 3",
   "language": "python",
   "name": "python3"
  },
  "language_info": {
   "codemirror_mode": {
    "name": "ipython",
    "version": 2
   },
   "file_extension": ".py",
   "mimetype": "text/x-python",
   "name": "python",
   "nbconvert_exporter": "python",
   "pygments_lexer": "ipython2",
   "version": "2.7.6"
  }
 },
 "nbformat": 4,
 "nbformat_minor": 0
}
